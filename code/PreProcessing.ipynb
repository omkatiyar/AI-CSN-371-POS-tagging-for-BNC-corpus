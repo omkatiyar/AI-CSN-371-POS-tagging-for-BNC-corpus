{
 "cells": [
  {
   "cell_type": "code",
   "execution_count": 4,
   "metadata": {},
   "outputs": [],
   "source": [
    "# The header is added by Mohit kumar on Oct 4, Sunday, 2020, 20 : 01: 15\n",
    "    # IMPORTANT\n",
    "    # please use comments to describe what you are doing, this will help a lot \n",
    "    # in long run, becuase we are three poeple so if we have nice comments then mess would be less\n",
    "    # THANKS!\n",
    "\n",
    "\n",
    "# importing os module\n",
    "    # this modules has all needed tools required to process the files\n",
    "import os\n",
    "\n",
    "# importing xml handler modules, \n",
    "    # these help us bring xml files into trees\n",
    "    # with trees format handling become easier.\n",
    "# I am importing after renaming it to \"xmltree\" so that using becomes clear\\\n",
    "    # Link for reference\n",
    "        # https://docs.python.org/2/library/xml.etree.elementtree.html \n",
    "import xml.etree.ElementTree as xmltree"
   ]
  },
  {
   "cell_type": "code",
   "execution_count": 6,
   "metadata": {},
   "outputs": [],
   "source": [
    "# this will process \"a\" given xml file\n",
    "def fileprocessor(xmlfile) :\n",
    "    \n",
    "    # make tree out of the xml file\n",
    "    mytree = xmltree.parse(xmlfile)\n",
    "    \n",
    "    # obtain root of tree to handle the tree\n",
    "    root = mytree.getroot()"
   ]
  },
  {
   "cell_type": "code",
   "execution_count": null,
   "metadata": {},
   "outputs": [],
   "source": []
  }
 ],
 "metadata": {
  "kernelspec": {
   "display_name": "Python 3",
   "language": "python",
   "name": "python3"
  },
  "language_info": {
   "codemirror_mode": {
    "name": "ipython",
    "version": 3
   },
   "file_extension": ".py",
   "mimetype": "text/x-python",
   "name": "python",
   "nbconvert_exporter": "python",
   "pygments_lexer": "ipython3",
   "version": "3.8.2"
  }
 },
 "nbformat": 4,
 "nbformat_minor": 4
}
