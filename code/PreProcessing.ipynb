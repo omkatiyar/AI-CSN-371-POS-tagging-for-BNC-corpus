{
 "cells": [
  {
   "cell_type": "code",
   "execution_count": 1,
   "metadata": {},
   "outputs": [],
   "source": [
    "# The header is added by Mohit kumar on Oct 4, Sunday, 2020, 20 : 01: 15\n",
    "    # IMPORTANT\n",
    "    # please use comments to describe what you are doing, this will help a lot \n",
    "    # in long run, becuase we are three poeple so if we have nice comments then mess would be less\n",
    "    # THANKS!\n",
    "\n",
    "\n",
    "# importing os module\n",
    "    # this modules has all needed tools required to process the files\n",
    "import os\n",
    "\n",
    "# importing xml handler modules, \n",
    "    # these help us bring xml files into trees\n",
    "    # with trees format handling become easier.\n",
    "# I am importing after renaming it to \"xmltree\" so that using becomes clear\\\n",
    "    # Link for reference\n",
    "        # https://docs.python.org/2/library/xml.etree.elementtree.html \n",
    "import xml.etree.ElementTree as xmltree"
   ]
  },
  {
   "cell_type": "code",
   "execution_count": 14,
   "metadata": {},
   "outputs": [],
   "source": [
    "# this will process \"a\" given xml file\n",
    "def fileProcessor(xmlfile) :\n",
    "    \n",
    "    # make tree out of the xml file\n",
    "    mytree = xmltree.parse(xmlfile)\n",
    "    \n",
    "    # obtain root of tree to handle the tree\n",
    "    root = mytree.getroot()\n",
    "    \n",
    "    # look at the files every file has a seven letter name\n",
    "    # so we will swap 7 letter back and file file path\n",
    "    # also we will store the file as txt\n",
    "    newpath = xmlfile[:-7] + 'filtered/'\n",
    "    \n",
    "    if not os.path.isdir(newpath) :\n",
    "        os.mkdir(newpath)\n",
    "        \n",
    "    newpath = xmlfile[:-7] + 'filtered/' + xmlfile[-7:-3] + 'txt'    \n",
    "    if not os.path.isfile(newpath) :\n",
    "        with open(newpath, 'w') as temp:\n",
    "            pass\n",
    "    # now if we will run this many times we will copy the data unneccesaryily\n",
    "    # clean the file\n",
    "    result = open(newpath, 'w+')\n",
    "    \n",
    "        # see this link for reference \n",
    "        # https://stackoverflow.com/questions/16208206/\n",
    "        # confused-by-python-file-mode-w#:~:text=w%2B%20%3A%20Opens%20a%20file%20for,\n",
    "        # file%20for%20reading%20and%20writing.\n",
    "    # note the link has been split into three lines :)\n",
    "    \n",
    "    # I found somewhere that appending mode is better for writing, sometimes w+ gives unexpected erros\n",
    "    # reference missed here\n",
    "    \n",
    "    result.close()\n",
    "    result = open (newpath, 'a')\n",
    "    \n",
    "    # action begins!\n",
    "    for word in root.iter('w'):\n",
    "        # write in the file this word\n",
    "        result.write(word.text.replace(' ', '') + '_' + word.attrib['pos'] + ' ')\n",
    "    \n",
    "    # succesfully done\n",
    "    # close the file and end function\n",
    "    result.close()    "
   ]
  },
  {
   "cell_type": "code",
   "execution_count": 43,
   "metadata": {},
   "outputs": [],
   "source": [
    "# def allFileProcessor() :\n",
    "    \n",
    "#     # the path for source\n",
    "#     source_train = 'Train-corups/' \n",
    "#     source_test = 'Test-corups/'\n",
    "#     # At this point I realised that till now I have been calling this as BNC \"CORPUS\" \n",
    "#     # see that I used to say \"PUS\" but it is \"UPS\" funny right\n",
    "    \n",
    "#     for file in os.listdir(source_train): \n",
    "#         if '.xml' in file :\n",
    "#             fileProcessor(file)\n",
    "    \n",
    "#     # train corpus done. amazing!\n",
    "    \n",
    "#     for file in os.listdir(source_test): \n",
    "#         if '.xml' in file :\n",
    "#             fileProcessor(file)\n",
    "#     # test done too!\n",
    "            "
   ]
  },
  {
   "cell_type": "code",
   "execution_count": 44,
   "metadata": {},
   "outputs": [],
   "source": [
    "# # let's test the function\n",
    "# allFileProcessor()"
   ]
  },
  {
   "cell_type": "code",
   "execution_count": 45,
   "metadata": {},
   "outputs": [],
   "source": [
    "# after getting abover error i realised that other is \"CORPUS\""
   ]
  },
  {
   "cell_type": "code",
   "execution_count": 46,
   "metadata": {},
   "outputs": [],
   "source": [
    "# def allFileProcessor2() :\n",
    "    \n",
    "#     # the path for source\n",
    "#     source_train = 'Train-corups/' \n",
    "#     source_test = 'Test-corpus/'\n",
    "#     # At this point I realised that till now I have been calling this as BNC \"CORPUS\" \n",
    "#     # see that I used to say \"PUS\" but it is \"UPS\" funny right\n",
    "    \n",
    "#     for file in os.listdir(source_train): \n",
    "#         if '.xml' in file :\n",
    "#             fileProcessor(file)\n",
    "    \n",
    "#     # train corpus done. amazing!\n",
    "    \n",
    "#     for file in os.listdir(source_test): \n",
    "#         if '.xml' in file :\n",
    "#             fileProcessor(file)\n",
    "#     # test done too!"
   ]
  },
  {
   "cell_type": "code",
   "execution_count": 18,
   "metadata": {},
   "outputs": [],
   "source": [
    "# allFileProcessor2()"
   ]
  },
  {
   "cell_type": "code",
   "execution_count": 17,
   "metadata": {},
   "outputs": [],
   "source": [
    "# it did not worked where did i made mistake"
   ]
  },
  {
   "cell_type": "code",
   "execution_count": 16,
   "metadata": {},
   "outputs": [
    {
     "data": {
      "text/plain": [
       "3"
      ]
     },
     "execution_count": 16,
     "metadata": {},
     "output_type": "execute_result"
    }
   ],
   "source": [
    "1+2"
   ]
  },
  {
   "cell_type": "code",
   "execution_count": 15,
   "metadata": {},
   "outputs": [
    {
     "ename": "NameError",
     "evalue": "name 'os' is not defined",
     "output_type": "error",
     "traceback": [
      "\u001b[1;31m---------------------------------------------------------------------------\u001b[0m",
      "\u001b[1;31mNameError\u001b[0m                                 Traceback (most recent call last)",
      "\u001b[1;32m<ipython-input-15-c3ce574b7ddf>\u001b[0m in \u001b[0;36m<module>\u001b[1;34m\u001b[0m\n\u001b[0;32m      5\u001b[0m \u001b[1;31m# see that I used to say \"PUS\" but it is \"UPS\" funny right\u001b[0m\u001b[1;33m\u001b[0m\u001b[1;33m\u001b[0m\u001b[1;33m\u001b[0m\u001b[0m\n\u001b[0;32m      6\u001b[0m \u001b[1;33m\u001b[0m\u001b[0m\n\u001b[1;32m----> 7\u001b[1;33m \u001b[1;32mfor\u001b[0m \u001b[0mfile\u001b[0m \u001b[1;32min\u001b[0m \u001b[0mos\u001b[0m\u001b[1;33m.\u001b[0m\u001b[0mlistdir\u001b[0m\u001b[1;33m(\u001b[0m\u001b[0msource_train\u001b[0m\u001b[1;33m)\u001b[0m\u001b[1;33m:\u001b[0m\u001b[1;33m\u001b[0m\u001b[1;33m\u001b[0m\u001b[0m\n\u001b[0m\u001b[0;32m      8\u001b[0m     \u001b[1;32mif\u001b[0m \u001b[1;34m'.xml'\u001b[0m \u001b[1;32min\u001b[0m \u001b[0mfile\u001b[0m \u001b[1;33m:\u001b[0m\u001b[1;33m\u001b[0m\u001b[1;33m\u001b[0m\u001b[0m\n\u001b[0;32m      9\u001b[0m         \u001b[0mfileProcessor\u001b[0m\u001b[1;33m(\u001b[0m\u001b[0msource_train\u001b[0m \u001b[1;33m+\u001b[0m \u001b[0mfile\u001b[0m\u001b[1;33m)\u001b[0m\u001b[1;33m\u001b[0m\u001b[1;33m\u001b[0m\u001b[0m\n",
      "\u001b[1;31mNameError\u001b[0m: name 'os' is not defined"
     ]
    }
   ],
   "source": [
    "# the path for source\n",
    "source_train = 'Train-corups/' \n",
    "source_test = 'Test-corpus/'\n",
    "# At this point I realised that till now I have been calling this as BNC \"CORPUS\" \n",
    "# see that I used to say \"PUS\" but it is \"UPS\" funny right\n",
    "\n",
    "for file in os.listdir(source_train): \n",
    "    if '.xml' in file :\n",
    "        fileProcessor(source_train + file)\n",
    "\n",
    "# train corpus done. amazing!\n",
    "\n",
    "for file in os.listdir(source_test): \n",
    "    if '.xml' in file :\n",
    "        fileProcessor(source_test + file)\n",
    "# test done too!"
   ]
  },
  {
   "cell_type": "code",
   "execution_count": null,
   "metadata": {},
   "outputs": [],
   "source": []
  }
 ],
 "metadata": {
  "kernelspec": {
   "display_name": "Python 3",
   "language": "python",
   "name": "python3"
  },
  "language_info": {
   "codemirror_mode": {
    "name": "ipython",
    "version": 3
   },
   "file_extension": ".py",
   "mimetype": "text/x-python",
   "name": "python",
   "nbconvert_exporter": "python",
   "pygments_lexer": "ipython3",
   "version": "3.7.4"
  }
 },
 "nbformat": 4,
 "nbformat_minor": 4
}
